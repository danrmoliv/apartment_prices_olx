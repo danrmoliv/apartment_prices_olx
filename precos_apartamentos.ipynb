{
 "cells": [
  {
   "attachments": {},
   "cell_type": "markdown",
   "metadata": {},
   "source": [
    "# Análise dos preços de apartamentos em Salvador"
   ]
  },
  {
   "attachments": {},
   "cell_type": "markdown",
   "metadata": {},
   "source": [
    "A análise será feita com os dados extraídos na OLX em 04/02/2023."
   ]
  },
  {
   "attachments": {},
   "cell_type": "markdown",
   "metadata": {},
   "source": [
    "### Extração dos dados no site da OLX"
   ]
  },
  {
   "cell_type": "code",
   "execution_count": 238,
   "metadata": {},
   "outputs": [],
   "source": [
    "import requests\n",
    "from bs4 import BeautifulSoup\n",
    "\n",
    "page_olx = 1\n",
    "URL = \"https://www.olx.com.br/imoveis/venda/estado-ba/grande-salvador/salvador?o={page_olx}\"\n",
    "\n",
    "headers = {\n",
    "    'user-agent': 'Mozilla/5.0 (Windows NT 10.0; Win64; x64) AppleWebKit/537.36 (KHTML, like Gecko) Chrome/107.0.0.0 Safari/537.36',\n",
    "    'accept-language':'pt-BR,pt;q=0.6',\n",
    "    'accept': 'text/html,application/xhtml+xml,application/xml;q=0.9,image/avif,image/webp,image/apng,*/*;q=0.8',\n",
    "    'accept-encoding':'gzip, deflate'\n",
    "}\n",
    "\n",
    "\n"
   ]
  },
  {
   "cell_type": "code",
   "execution_count": 239,
   "metadata": {},
   "outputs": [],
   "source": [
    "response = requests.get(url=URL,headers=headers)\n",
    "salvador_olx_data = response.text\n",
    "soup = BeautifulSoup(salvador_olx_data, \"html.parser\")"
   ]
  },
  {
   "cell_type": "code",
   "execution_count": 240,
   "metadata": {},
   "outputs": [],
   "source": [
    "#Lista de itens na página\n",
    "page_data_items = soup.select(\"#ad-list > li\")\n",
    "item = page_data_items[1]\n",
    "\n",
    "#Título do anuncio:\n",
    "titulo = item.select(\"a > div.sc-fgfRvd.fZoIzL > div.sc-hIVACf.dUnJVd > div.sc-gpHHfC.kJrkKt > h2\")\n",
    "titulo_anuncio = titulo[0].text\n",
    "\n",
    "#Tipo de imóvel:\n",
    "tp_imovel_item = item.select(\"h3\")\n",
    "tp_imovel_item = [x for x in tp_imovel_item if \"venda\" in x.text]\n",
    "tp_imovel = tp_imovel_item[0].text\n",
    "\n",
    "#Informações que não existem em todos os anuncios\n",
    "quarto_info, area_info, garagem_info, banheiro_info, iptu_info, condominio_info = '','','','','',''\n",
    "\n",
    "#Informações de banheiro, area, quartos e garagem:\n",
    "for i in range(1,8):\n",
    "    try:\n",
    "        atributo = item.select(f\"ul > li:nth-child({i}) > span\")[0].attrs['aria-label']\n",
    "        if 'QUARTO' in atributo.upper():\n",
    "            quarto_info = atributo\n",
    "        elif 'METRO' in atributo.upper():\n",
    "            area_info = atributo\n",
    "        elif 'GARAGEM' in atributo.upper():\n",
    "            garagem_info = atributo\n",
    "        elif 'BANHEIRO' in atributo.upper():\n",
    "            banheiro_info = atributo \n",
    "    except:\n",
    "        pass\n",
    "\n",
    "#Dados de localização:\n",
    "localizacao_item = item.select('a > div.sc-fgfRvd.fZoIzL > div.sc-kQsIoO.kbWREw > div > div.sc-hjRWVT.lgwjMd > span:nth-child(2)')[0]\n",
    "cidade, bairro = [x.strip() for x in localizacao_item.text.split(',')]\n",
    "\n",
    "#Valores:\n",
    "preco_item = item.select('a > div.sc-fgfRvd.fZoIzL > div.sc-hIVACf.dUnJVd > div.sc-cpmKsF.ecSOri > span.main-price')\n",
    "preco_imovel = preco_item[0].text\n",
    "\n",
    "#Condomínio e IPTU:\n",
    "for i in range(1,4):\n",
    "    try:\n",
    "        valor_atributo = item.select(f'a > div.sc-fgfRvd.fZoIzL > div.sc-hIVACf.dUnJVd > div.sc-cpmKsF.ecSOri > span:nth-child({i})')[0].text\n",
    "        if 'IPTU' in valor_atributo.upper():\n",
    "            iptu_info = valor_atributo\n",
    "        elif 'CONDOM' in valor_atributo.upper():\n",
    "            condominio_info = valor_atributo\n",
    "    except:\n",
    "        pass\n",
    "\n",
    "#Link do anúncio:\n",
    "link_anuncio = item.select('a')[0].attrs['href']\n",
    "\n",
    "\n",
    "#Data do anúncio:\n",
    "data_anuncio_info = item.select('a > div.sc-fgfRvd.fZoIzL > div.sc-kQsIoO.kbWREw > div > div.sc-hjRWVT.lgwjMd > span:nth-child(4)')[0].text\n"
   ]
  },
  {
   "cell_type": "code",
   "execution_count": 241,
   "metadata": {},
   "outputs": [
    {
     "name": "stdout",
     "output_type": "stream",
     "text": [
      "PITUBA APARTAMENTO 1/4 AMPLO 54 M2 GARAGEM EXCELENTE LOCALIZAÇÃO\n",
      "Apartamento À venda\n",
      "1 quarto\n",
      "54 metros quadrados\n",
      "1 vaga de garagem\n",
      "1 banheiro\n",
      "Salvador\n",
      "Pituba\n",
      "R$ 235.030\n",
      "IPTU R$ 1\n",
      "Condomínio R$ 690\n",
      "https://ba.olx.com.br/grande-salvador/imoveis/pituba-apartamento-1-4-amplo-54-m2-garagem-excelente-localizacao-1142463603\n",
      "3 de fev, 16:18\n"
     ]
    }
   ],
   "source": [
    "print(f'{titulo_anuncio}\\n{tp_imovel}\\n{quarto_info}\\n{area_info}\\n{garagem_info}\\n{banheiro_info}\\n{cidade}\\n{bairro}\\n{preco_imovel}\\n{iptu_info}\\n{condominio_info}\\n{link_anuncio}\\n{data_anuncio_info}')\n"
   ]
  },
  {
   "attachments": {},
   "cell_type": "markdown",
   "metadata": {},
   "source": [
    "Exemplos das informações acima:\n",
    "\n",
    "Greenville  Etco 3/4 com varanda gourmet, andar alto - PATAMARES\n",
    "\n",
    "Apartamento À venda\n",
    "\n",
    "3 quartos\n",
    "\n",
    "130 metros quadrados\n",
    "\n",
    "2 vagas de garagem\n",
    "\n",
    "3 banheiros\n",
    "\n",
    "Salvador\n",
    "\n",
    "Patamares\n",
    "\n",
    "R$ 1.230.000\n",
    "\n",
    "IPTU R$ 330\n",
    "\n",
    "Condomínio R$ 800\n",
    "\n",
    "https://ba.olx.com.br/grande-salvador/imoveis/greenville-etco-3-4-com-varanda-gourmet-andar-alto-patamares-1143011596\n",
    "\n",
    "Ontem, 23:58 ou 3 de fev, 16:18"
   ]
  }
 ],
 "metadata": {
  "kernelspec": {
   "display_name": "Python 3 (ipykernel)",
   "language": "python",
   "name": "python3"
  },
  "language_info": {
   "codemirror_mode": {
    "name": "ipython",
    "version": 3
   },
   "file_extension": ".py",
   "mimetype": "text/x-python",
   "name": "python",
   "nbconvert_exporter": "python",
   "pygments_lexer": "ipython3",
   "version": "3.9.7"
  },
  "orig_nbformat": 4
 },
 "nbformat": 4,
 "nbformat_minor": 2
}
