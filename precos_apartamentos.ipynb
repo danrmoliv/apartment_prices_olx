{
 "cells": [
  {
   "attachments": {},
   "cell_type": "markdown",
   "metadata": {},
   "source": [
    "# Análise dos preços de apartamentos em Salvador"
   ]
  },
  {
   "attachments": {},
   "cell_type": "markdown",
   "metadata": {},
   "source": [
    "A análise será feita com os dados extraídos na OLX em 04/02/2023."
   ]
  },
  {
   "attachments": {},
   "cell_type": "markdown",
   "metadata": {},
   "source": [
    "### Extração dos dados no site da OLX"
   ]
  },
  {
   "cell_type": "code",
   "execution_count": 175,
   "metadata": {},
   "outputs": [],
   "source": [
    "import pandas as pd\n",
    "import numpy as np\n",
    "import datetime as dt\n",
    "import requests\n",
    "from bs4 import BeautifulSoup\n",
    "\n",
    "page_olx = 1\n",
    "URL = \"https://www.olx.com.br/imoveis/venda/estado-ba/grande-salvador/salvador?o={page_olx}\"\n",
    "\n",
    "headers = {\n",
    "    'user-agent': 'Mozilla/5.0 (Windows NT 10.0; Win64; x64) AppleWebKit/537.36 (KHTML, like Gecko) Chrome/107.0.0.0 Safari/537.36',\n",
    "    'accept-language':'pt-BR,pt;q=0.6',\n",
    "    'accept': 'text/html,application/xhtml+xml,application/xml;q=0.9,image/avif,image/webp,image/apng,*/*;q=0.8',\n",
    "    'accept-encoding':'gzip, deflate'\n",
    "}\n",
    "\n",
    "response = requests.get(url=URL,headers=headers)\n",
    "salvador_olx_data = response.text\n",
    "soup = BeautifulSoup(salvador_olx_data, \"html.parser\")"
   ]
  },
  {
   "cell_type": "code",
   "execution_count": null,
   "metadata": {},
   "outputs": [],
   "source": [
    "#Lista de itens na página\n",
    "page_data_items = soup.select(\"#ad-list > li\")\n",
    "item = page_data_items[10]\n",
    "\n",
    "#Título do anuncio:\n",
    "titulo = item.select(\"a > div.sc-fgfRvd.fZoIzL > div.sc-hIVACf.dUnJVd > div.sc-gpHHfC.kJrkKt > h2\")\n",
    "titulo_anuncio = titulo[0].text\n",
    "\n",
    "#Tipo de imóvel:\n",
    "tp_imovel_item = item.select(\"h3\")\n",
    "tp_imovel_item = [x for x in tp_imovel_item if \"venda\" in x.text]\n",
    "tp_imovel = tp_imovel_item[0].text\n",
    "\n",
    "#Informações que não existem em todos os anuncios\n",
    "quarto_info, area_info, garagem_info, banheiro_info, iptu_info, condominio_info = '','','','','',''\n",
    "\n",
    "#Informações de banheiro, area, quartos e garagem:\n",
    "for i in range(1,8):\n",
    "    try:\n",
    "        atributo = item.select(f\"ul > li:nth-child({i}) > span\")[0].attrs['aria-label']\n",
    "        if 'QUARTO' in atributo.upper():\n",
    "            quarto_info = atributo\n",
    "        elif 'METRO' in atributo.upper():\n",
    "            area_info = atributo\n",
    "        elif 'GARAGEM' in atributo.upper():\n",
    "            garagem_info = atributo\n",
    "        elif 'BANHEIRO' in atributo.upper():\n",
    "            banheiro_info = atributo \n",
    "    except:\n",
    "        pass\n",
    "\n",
    "#Dados de localização:\n",
    "localizacao_item = item.select('a > div.sc-fgfRvd.fZoIzL > div.sc-kQsIoO.kbWREw > div > div.sc-hjRWVT.lgwjMd > span:nth-child(2)')[0]\n",
    "cidade, bairro = [x.strip() for x in localizacao_item.text.split(',')]\n",
    "\n",
    "#Valores:\n",
    "preco_item = item.select('a > div.sc-fgfRvd.fZoIzL > div.sc-hIVACf.dUnJVd > div.sc-cpmKsF.ecSOri > span.main-price')\n",
    "preco_imovel = preco_item[0].text\n",
    "\n",
    "#Condomínio e IPTU:\n",
    "for i in range(1,4):\n",
    "    try:\n",
    "        valor_atributo = item.select(f'a > div.sc-fgfRvd.fZoIzL > div.sc-hIVACf.dUnJVd > div.sc-cpmKsF.ecSOri > span:nth-child({i})')[0].text\n",
    "        if 'IPTU' in valor_atributo.upper():\n",
    "            iptu_info = valor_atributo\n",
    "        elif 'CONDOM' in valor_atributo.upper():\n",
    "            condominio_info = valor_atributo\n",
    "    except:\n",
    "        pass\n",
    "\n",
    "#Link do anúncio:\n",
    "link_anuncio = item.select('a')[0].attrs['href']\n",
    "id_anuncio = link_anuncio.split('-')[-1]\n",
    "\n",
    "\n",
    "#Data do anúncio:\n",
    "data_anuncio_info = item.select('a > div.sc-fgfRvd.fZoIzL > div.sc-kQsIoO.kbWREw > div > div.sc-hjRWVT.lgwjMd > span:nth-child(4)')[0].text\n"
   ]
  },
  {
   "cell_type": "code",
   "execution_count": null,
   "metadata": {},
   "outputs": [
    {
     "name": "stdout",
     "output_type": "stream",
     "text": [
      "VENDO APARTAMENTO - 59 M² - 1 QUARTOS - CELEBRATION GARIBALDI  RIO VERMELHOR - SALVADOR | \n",
      "Apartamento À venda\n",
      "1 quarto\n",
      "59 metros quadrados\n",
      "1 vaga de garagem\n",
      "1 banheiro\n",
      "Salvador\n",
      "Rio Vermelho\n",
      "R$ 650.000\n",
      "IPTU R$ 101\n",
      "Condomínio R$ 423\n",
      "https://ba.olx.com.br/grande-salvador/imoveis/vendo-apartamento-59-m-1-quartos-celebration-garibaldi-rio-vermelhor-salvador-1113267526\n",
      "Hoje, 08:12\n"
     ]
    }
   ],
   "source": [
    "print(f'{titulo_anuncio}\\n{tp_imovel}\\n{quarto_info}\\n{area_info}\\n{garagem_info}\\n{banheiro_info}\\n{cidade}\\n{bairro}\\n{preco_imovel}\\n{iptu_info}\\n{condominio_info}\\n{link_anuncio}\\n{data_anuncio_info}')\n"
   ]
  },
  {
   "cell_type": "code",
   "execution_count": null,
   "metadata": {},
   "outputs": [],
   "source": [
    "#Convertendo os dados quantitativos para string:\n",
    "def string_to_float_olx(string):\n",
    "    try:\n",
    "        return float(string.split()[0])\n",
    "    except (ValueError, IndexError) as e:\n",
    "            try:\n",
    "                return float(string.split()[-1])\n",
    "            except (ValueError, IndexError) as e:\n",
    "                return np.nan\n",
    "            \n",
    "qtd_quartos = string_to_float_olx(quarto_info)\n",
    "area_m2 = string_to_float_olx(area_info)\n",
    "vagas_garagem = string_to_float_olx(garagem_info)\n",
    "qtd_banheiros = string_to_float_olx(banheiro_info)\n",
    "valor_imovel = string_to_float_olx(preco_imovel.replace('.',''))\n",
    "valor_iptu = string_to_float_olx(iptu_info.replace('.',''))\n",
    "valor_condominio = string_to_float_olx(condominio_info.replace('.',''))"
   ]
  },
  {
   "cell_type": "code",
   "execution_count": null,
   "metadata": {},
   "outputs": [],
   "source": [
    "# Função para converter as datas dos anúncios:\n",
    "def olx_date_to_datetime(date_string):\n",
    "    if 'HOJE' in date_string.upper():\n",
    "        date_anuncio = dt.datetime.now()\n",
    "        return dt.datetime(date_anuncio.year, date_anuncio.month, date_anuncio.day, int(date_string.split(', ')[1].split(':')[0]), int(date_string.split(', ')[1].split(':')[1]))\n",
    "    elif 'ONTEM' in date_string.upper():\n",
    "        date_anuncio = dt.datetime.now() + dt.timedelta(days=-1)\n",
    "        return dt.datetime(date_anuncio.year, date_anuncio.month, date_anuncio.day, int(date_string.split(', ')[1].split(':')[0]), int(date_string.split(', ')[1].split(':')[1])) \n",
    "    try:\n",
    "        hoje = dt.datetime.now()\n",
    "        day_month, hour_min = date_string.split(', ')\n",
    "        month_map = {\"jan\": 1,\"fev\": 2,\"mar\": 3,\"abr\": 4,\"mai\": 5,\"jun\": 6,\"jul\": 7,\"ago\": 8,\"set\": 9,\"out\": 10,\"nov\": 11,\"dez\": 12}\n",
    "        mes = month_map[day_month.split()[-1].lower()]\n",
    "        dia = int(day_month.split()[0])\n",
    "        hora, minuto = map(int, hour_min.split(\":\"))\n",
    "        candidate_date = dt.datetime(hoje.year, mes, dia, hora, minuto)\n",
    "\n",
    "        if candidate_date > hoje:\n",
    "            ano = hoje.year - 1\n",
    "        else:\n",
    "            ano = hoje.year\n",
    "        return dt.datetime(ano, mes, dia, hora, minuto)\n",
    "    except (ValueError, KeyError):\n",
    "        return None\n",
    "\n",
    "#Teste função\n",
    "# data1 = 'Hoje, 08:12'\n",
    "# data2 = '3 de fev, 16:18'\n",
    "# data3 = 'Ontem, 23:58'\n",
    "\n",
    "# olx_date_to_datetime(data1), olx_date_to_datetime(data2), olx_date_to_datetime(data3)\n",
    "\n",
    "data_anuncio_datetime = olx_date_to_datetime(data_anuncio_info).strftime('%Y-%m-%d %H:%M')\n"
   ]
  },
  {
   "cell_type": "code",
   "execution_count": null,
   "metadata": {},
   "outputs": [],
   "source": [
    "#Criação do Dataframe:\n",
    "anuncio_dict = {\n",
    "    'ID_ANUNCIO': id_anuncio,\n",
    "    'TIPO_IMOVEL': tp_imovel,\n",
    "    'TITULO': titulo_anuncio,\n",
    "    'QTD_QUARTOS': qtd_quartos,\n",
    "    'AREA_M2': area_m2,\n",
    "    'VAGAS_GARAGEM': vagas_garagem,\n",
    "    'QTD_BANHEIROS': qtd_banheiros,\n",
    "    'CIDADDE': cidade,\n",
    "    'BAIRRO': bairro,\n",
    "    'VALOR_RS': valor_imovel,\n",
    "    'IPTU_RS': valor_iptu,\n",
    "    'CONDOMINIO_RS': valor_condominio,\n",
    "    'DATA_PUBLICACAO': data_anuncio_datetime,\n",
    "    'LINK': link_anuncio,\n",
    "}\n",
    "\n",
    "df_anuncio_id = pd.DataFrame(data=anuncio_dict.items()).T\n",
    "df_anuncio_id.columns = df_anuncio_id.iloc[0]\n",
    "df_anuncio_id = df_anuncio_id[1:]\n",
    "\n",
    "#Agrupar anuncios em data frame TT:\n",
    "try:\n",
    "    df_anuncios_tt = pd.concat([df_anuncios_tt, df_anuncio_id])\n",
    "except:\n",
    "    df_anuncios_tt = df_anuncio_id"
   ]
  },
  {
   "cell_type": "code",
   "execution_count": null,
   "metadata": {},
   "outputs": [
    {
     "data": {
      "text/html": [
       "<div>\n",
       "<style scoped>\n",
       "    .dataframe tbody tr th:only-of-type {\n",
       "        vertical-align: middle;\n",
       "    }\n",
       "\n",
       "    .dataframe tbody tr th {\n",
       "        vertical-align: top;\n",
       "    }\n",
       "\n",
       "    .dataframe thead th {\n",
       "        text-align: right;\n",
       "    }\n",
       "</style>\n",
       "<table border=\"1\" class=\"dataframe\">\n",
       "  <thead>\n",
       "    <tr style=\"text-align: right;\">\n",
       "      <th></th>\n",
       "      <th>ID_ANUNCIO</th>\n",
       "      <th>TIPO_IMOVEL</th>\n",
       "      <th>TITULO</th>\n",
       "      <th>QTD_QUARTOS</th>\n",
       "      <th>AREA_M2</th>\n",
       "      <th>VAGAS_GARAGEM</th>\n",
       "      <th>QTD_BANHEIROS</th>\n",
       "      <th>CIDADDE</th>\n",
       "      <th>BAIRRO</th>\n",
       "      <th>VALOR_RS</th>\n",
       "      <th>IPTU_RS</th>\n",
       "      <th>CONDOMINIO_RS</th>\n",
       "      <th>DATA_PUBLICACAO</th>\n",
       "      <th>LINK</th>\n",
       "    </tr>\n",
       "  </thead>\n",
       "  <tbody>\n",
       "    <tr>\n",
       "      <th>1</th>\n",
       "      <td>1113267526</td>\n",
       "      <td>Apartamento À venda</td>\n",
       "      <td>VENDO APARTAMENTO - 59 M² - 1 QUARTOS - CELEBR...</td>\n",
       "      <td>1.0</td>\n",
       "      <td>59.0</td>\n",
       "      <td>1.0</td>\n",
       "      <td>1.0</td>\n",
       "      <td>Salvador</td>\n",
       "      <td>Rio Vermelho</td>\n",
       "      <td>650000.0</td>\n",
       "      <td>101.0</td>\n",
       "      <td>423.0</td>\n",
       "      <td>2023-02-05 08:12</td>\n",
       "      <td>https://ba.olx.com.br/grande-salvador/imoveis/...</td>\n",
       "    </tr>\n",
       "  </tbody>\n",
       "</table>\n",
       "</div>"
      ],
      "text/plain": [
       "0  ID_ANUNCIO          TIPO_IMOVEL  \\\n",
       "1  1113267526  Apartamento À venda   \n",
       "\n",
       "0                                             TITULO QTD_QUARTOS AREA_M2  \\\n",
       "1  VENDO APARTAMENTO - 59 M² - 1 QUARTOS - CELEBR...         1.0    59.0   \n",
       "\n",
       "0 VAGAS_GARAGEM QTD_BANHEIROS   CIDADDE        BAIRRO  VALOR_RS IPTU_RS  \\\n",
       "1           1.0           1.0  Salvador  Rio Vermelho  650000.0   101.0   \n",
       "\n",
       "0 CONDOMINIO_RS   DATA_PUBLICACAO  \\\n",
       "1         423.0  2023-02-05 08:12   \n",
       "\n",
       "0                                               LINK  \n",
       "1  https://ba.olx.com.br/grande-salvador/imoveis/...  "
      ]
     },
     "execution_count": 174,
     "metadata": {},
     "output_type": "execute_result"
    }
   ],
   "source": [
    "df_anuncios_tt\n"
   ]
  }
 ],
 "metadata": {
  "kernelspec": {
   "display_name": "Python 3",
   "language": "python",
   "name": "python3"
  },
  "language_info": {
   "codemirror_mode": {
    "name": "ipython",
    "version": 3
   },
   "file_extension": ".py",
   "mimetype": "text/x-python",
   "name": "python",
   "nbconvert_exporter": "python",
   "pygments_lexer": "ipython3",
   "version": "3.9.6"
  },
  "orig_nbformat": 4,
  "vscode": {
   "interpreter": {
    "hash": "a9960baf88259386db57c734c8604c8e4ab789688672644b3cf73fda24b112c6"
   }
  }
 },
 "nbformat": 4,
 "nbformat_minor": 2
}
